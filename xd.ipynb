{
 "cells": [
  {
   "cell_type": "markdown",
   "id": "894c006c-c2d5-4427-a51f-78eb318d1bd9",
   "metadata": {},
   "source": [
    "# Trabajo Práctico 1 - Algebra Lineal Compuacional"
   ]
  },
  {
   "cell_type": "markdown",
   "id": "54282da3-edcb-42c4-a341-773171049689",
   "metadata": {},
   "source": [
    "Felipe Pasquet, LU: 1084/22\n",
    "\n",
    "Tobias Llop, LU: 871/22"
   ]
  },
  {
   "cell_type": "code",
   "execution_count": null,
   "id": "f62fa66a-b7cf-4bb9-9bd6-cf3bf24ae78f",
   "metadata": {},
   "outputs": [],
   "source": []
  },
  {
   "cell_type": "code",
   "execution_count": null,
   "id": "c8c7a35d-4e40-49da-8f25-bf9d4d464ba8",
   "metadata": {},
   "outputs": [],
   "source": []
  }
 ],
 "metadata": {
  "kernelspec": {
   "display_name": "Python 3",
   "language": "python",
   "name": "python3"
  },
  "language_info": {
   "codemirror_mode": {
    "name": "ipython",
    "version": 3
   },
   "file_extension": ".py",
   "mimetype": "text/x-python",
   "name": "python",
   "nbconvert_exporter": "python",
   "pygments_lexer": "ipython3",
   "version": "3.8.10"
  }
 },
 "nbformat": 4,
 "nbformat_minor": 5
}

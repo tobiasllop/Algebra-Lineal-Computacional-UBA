{
  "cells": [
    {
      "cell_type": "markdown",
      "metadata": {
        "id": "CfXivWzwWD8y"
      },
      "source": [
        "# Trabajo práctico 2\n",
        "**Algebra Lineal computacional, 2do cuatrimestre 2023, Universidad de Buenos Aires**\n",
        "\n",
        "Tobias Llop, LU 871/22\n",
        "\n",
        "Felipe Pasquet, LU 1084/22\n"
      ]
    },
    {
      "cell_type": "markdown",
      "metadata": {
        "id": "AUDG5UWTYFb0"
      },
      "source": [
        "## Ejercicio 1"
      ]
    },
    {
      "cell_type": "markdown",
      "metadata": {
        "id": "CipeQBIHYJ83"
      },
      "source": [
        "### a) importamos los datos"
      ]
    },
    {
      "cell_type": "code",
      "execution_count": 2,
      "metadata": {
        "id": "u7NJ-Zc8YCkB"
      },
      "outputs": [],
      "source": [
        "#Importamos librerias\n",
        "import pandas as pd\n",
        "import numpy as np\n",
        "import matplotlib.pyplot as plt\n",
        "import time\n",
        "from sklearn.model_selection import train_test_split"
      ]
    },
    {
      "cell_type": "code",
      "execution_count": 3,
      "metadata": {
        "id": "F5NqvvwnYZqZ",
        "colab": {
          "base_uri": "https://localhost:8080/"
        },
        "outputId": "5675d1f2-1bf2-4b9b-9c7a-29c50dbd26c0"
      },
      "outputs": [
        {
          "output_type": "stream",
          "name": "stdout",
          "text": [
            "Drive already mounted at /content/drive; to attempt to forcibly remount, call drive.mount(\"/content/drive\", force_remount=True).\n"
          ]
        }
      ],
      "source": [
        "#Importamos los datos\n",
        "from google.colab import drive\n",
        "drive.mount('/content/drive')\n",
        "data = pd.read_csv('/content/drive/MyDrive/Colab Notebooks/wine.csv')"
      ]
    },
    {
      "cell_type": "markdown",
      "metadata": {
        "id": "rzWOtezWY6mD"
      },
      "source": [
        "### b) separamos nuestros datos en las variables dependientes (X) e independientes (Y)."
      ]
    },
    {
      "cell_type": "code",
      "execution_count": 4,
      "metadata": {
        "id": "DduF0TrpZDXc"
      },
      "outputs": [],
      "source": [
        "y = data['Customer_Segment']\n",
        "X = data.drop(columns='Customer_Segment')"
      ]
    },
    {
      "cell_type": "markdown",
      "metadata": {
        "id": "IOoVmvMh1hm7"
      },
      "source": [
        "### c) Normalización\n",
        "Como nuestros datos tienen variables de distinta naturaleza, que se miden de distintas maneras y con distintas escalas, normalizaremos nuestros datos para que un atributo no tenga mayor importancia en nuestra predicción final simplemente por la escala en la que estaba medido. Normalizar los datos, hace que todos estén alrededor del 0 y podamos ver la varianza real de ellos.\n",
        "A continuación normalizaremos nuestras variables dependientes $x_i$, para ello diseñamos distintas funciones que se basan en las siguientes fórmulas mátematicas:\n",
        "\n",
        "$ s = \\sqrt{\\frac{1}{N-1} \\sum_{i=1}^{N} (X_i - \\overline{X})^2}$\n",
        "\n",
        "$\\overline{X} = \\frac{1}{N} \\sum_{i=1}^{N} X_i$\n",
        "\n",
        "$x_i = \\frac{X_i - \\overline{X}}{s}$\n",
        "\n",
        "donde $s$ es el desvío estandar, implementado en nuestra funcíon *desvio*, $\\overline{X}$ es el promedio de cada variable dependiente y está implementado en nuestra función  *promedio*. Por último la función $x_i$ es la fórmula que normaliza y centra nuestras variables y está implementada en la función *normalizar*."
      ]
    },
    {
      "cell_type": "code",
      "execution_count": 5,
      "metadata": {
        "id": "am0ltQc11l-_"
      },
      "outputs": [],
      "source": [
        "# creamos funciones para calcular el promedio y la desviacion estandar\n",
        "def promedio(x):\n",
        "    res = 0\n",
        "    for i in x:\n",
        "        res += i\n",
        "    return res/len(x)\n",
        "\n",
        "def desviacion(x):\n",
        "    res = 0\n",
        "    for i in x:\n",
        "        res += (i-promedio(x))**2\n",
        "    return np.sqrt(res/(len(x)-1))\n",
        "\n",
        "def normalizar(x):\n",
        "    return (x-promedio(x))/desviacion(x)"
      ]
    },
    {
      "cell_type": "markdown",
      "metadata": {
        "id": "oRwbDW8i5ll1"
      },
      "source": [
        "A continuación utilizaremos las funciones anteriores y normalizaremos nuestras variables dependientes. Este paso es importante ya que a la hora de comparar nuestras variables deben estar escaladas, sino aquellas variables cuya escala sea mayor dominarán al resto."
      ]
    },
    {
      "cell_type": "code",
      "execution_count": 6,
      "metadata": {
        "id": "nGK0yv1J54Gh"
      },
      "outputs": [],
      "source": [
        "var_dependientes_normalizados = X.copy()\n",
        "def normalizar_df(df):\n",
        "    promed = []\n",
        "    desviac = []\n",
        "    for x in df.columns:\n",
        "        promed.append(promedio(df[x]))\n",
        "        desviac.append(desviacion(df[x]))\n",
        "        df[x] = normalizar(df[x])\n",
        "    return df, promed, desviac\n",
        "var_dependientes_normalizados, prom, desv = normalizar_df(var_dependientes_normalizados)\n",
        "var_dependientes_normalizados_mat = var_dependientes_normalizados.to_numpy()"
      ]
    },
    {
      "cell_type": "markdown",
      "metadata": {
        "id": "-stlrZDd8D2k"
      },
      "source": [
        "### d) Matriz de covarianza\n",
        "El siguiente paso que realizaremos con nuestras variables dependientes será calcular su matriz de covarianza. La matriz de covarianza es una matriz cuadrada que contiene la covarianza entre los elementos de un vector. En este caso contendrá la covarianza entre nuestras 13 variables dependientes y será de dimensión $13\\times13$.\n",
        "\n",
        "Esta matriz cumple distintas propiedades:\n",
        "1. Es simétrica\n",
        "2. Los elementos de la diagonal principal de la matriz de covarianza representan las varianzas de las variables individuales\n",
        "3. Los elementos fuera de la diagonal principal representan las covarianzas entre las diferentes variables. Un valor positivo indica una relación positiva, un valor negativo indica una relación negativa, y un valor cercano a cero indica una relación débil o nula entre las variables.\n",
        "\n",
        "Calcularemos la matriz de covarianza utilizando la función predefinida *numpy.cov()* de la biblioteca numpy.\n"
      ]
    },
    {
      "cell_type": "code",
      "execution_count": 7,
      "metadata": {
        "id": "EpicA3c-9LHS"
      },
      "outputs": [],
      "source": [
        "def covarianza(data):\n",
        "    num_variables = len(data[0])\n",
        "    num_observaciones = len(data)\n",
        "\n",
        "    # Calculamos la media de cada variable\n",
        "    means = [sum(variable) / num_observaciones for variable in zip(*data)]\n",
        "\n",
        "    # Inicializamos la matriz de covarianza con ceros\n",
        "    res = np.zeros((num_variables,num_variables))\n",
        "\n",
        "    # Calculamos los términos de la matriz de covarianza\n",
        "    for i in range(num_variables):\n",
        "        for j in range(num_variables):\n",
        "            res[i][j] = sum((data[k][i] - means[i]) * (data[k][j] - means[j]) for k in range(num_observaciones)) / (num_observaciones - 1)\n",
        "    return res\n",
        "\n",
        "# Calculamos la matriz de covarianza\n",
        "matriz_covarianza = covarianza(var_dependientes_normalizados_mat)"
      ]
    },
    {
      "cell_type": "markdown",
      "metadata": {
        "id": "ApPh5ZNS-Cwz"
      },
      "source": [
        "### e) Método de la potencia\n",
        "Nuestro siguiente objetivo es encontrar el máximo de los autovalores, y su correspondiente autovector, de la matriz de covarianza hallada en el item anterior.\n",
        "\n",
        "Para ello utilizaremos el conocido **método de la potencia**.\n",
        "\n",
        "Diseñamos la  función `metodo_potencia` que toma como entrada la matriz $A$ y un vector inicial $v_0$.  Definimos criterio para detener las iteraciones del método a la iteración en la que la diferencia absoluta entre dos valores propios sucesivos sea menor que $1 \\times 10^{-8}$.\n",
        "\n",
        "La función devuelve el valor propio dominante `r_actual` como el máximo autovalor $\\lambda$ y a su autovector asociado correspondiente $v$."
      ]
    },
    {
      "cell_type": "code",
      "execution_count": 8,
      "metadata": {
        "colab": {
          "base_uri": "https://localhost:8080/"
        },
        "id": "SNG8BUUG-FbA",
        "outputId": "2ec9be0b-bda9-467a-d8e6-f09a73ea6a8e"
      },
      "outputs": [
        {
          "output_type": "stream",
          "name": "stdout",
          "text": [
            "Autovector: [ 0.14435538 -0.24517549 -0.00203407 -0.23932097  0.14200814  0.39466434\n",
            "  0.42293412 -0.29853155  0.3134316  -0.08858823  0.29669956  0.37615857\n",
            "  0.28677183]\n",
            "Autovalor máximo: 4.70585025119514\n"
          ]
        }
      ],
      "source": [
        "def metodo_potencia(A, x0):\n",
        "    x = x0\n",
        "    r_ant = 0\n",
        "    while True:\n",
        "        x_nuevo = (A @ x) / np.linalg.norm(A @ x) #Multiplicamos A por x y normalizamos\n",
        "        r_actual = x_nuevo @ A @ x_nuevo # Calculamos el autovalor actual\n",
        "        if np.abs(r_actual - r_ant) < 1e-8:\n",
        "            break\n",
        "        x = x_nuevo\n",
        "        r_ant = r_actual\n",
        "    return x, r_actual\n",
        "\n",
        "#Definimos un vector random de R^13 para inicializar el método de la potencia.\n",
        "x0 = np.random.rand(13)\n",
        "\n",
        "#Ejecutamos el metodo de la potencia para nuestra matriz de covarianza\n",
        "autovector, autovalor = metodo_potencia(matriz_covarianza, x0)\n",
        "print(\"Autovector:\", autovector)\n",
        "print(\"Autovalor máximo:\", autovalor)"
      ]
    },
    {
      "cell_type": "markdown",
      "metadata": {
        "id": "ts7DhoO_FiBx"
      },
      "source": [
        "### f) n maximos (Preguntar por lo ultimo)\n",
        "A continuación hallaremos no solo el autovalor máximo y su correspondiente autovector, sino que ampliaremos el método de la potencia para que calcule sus $n$ autovalores máximos y autovectores correspondientes sucesivos.\n",
        "\n",
        "Para ello, definimos nuestra función `n_maximos` que toma como valores de entrada a la matriz de covarianza, un vector de $ℝ^{13}$ para inicializar el método de la potencia y un entero $n$ que indica los $n$ autovalores y autovectores máximos que querramos. Luego devuelve dos listas, una con los autovalores y otra con los autovectores."
      ]
    },
    {
      "cell_type": "code",
      "execution_count": 9,
      "metadata": {
        "id": "HJ2zQ2PNEpo0"
      },
      "outputs": [],
      "source": [
        "def n_maximos(A, x0, n):\n",
        "    autovalores = []\n",
        "    autovectores = []\n",
        "    for i in range(n):\n",
        "      x, r_actual = metodo_potencia(A,x0)\n",
        "      # Guardamos el aval y avec maximo\n",
        "      autovalores.append(r_actual)\n",
        "      autovectores.append(x)\n",
        "      # Deflacionamos la matriz A\n",
        "      A = A - r_actual * np.outer(x, x)\n",
        "    return autovalores, autovectores"
      ]
    },
    {
      "cell_type": "markdown",
      "metadata": {
        "id": "rx20niSaHYwA"
      },
      "source": [
        "La cantidad de autovalores de nuestra matriz de covarianza es la misma que la cantidad de propiedades de los vinos.\n",
        "\n",
        "Cada autovector de la matriz de covarianza son distintas direcciones en las que se mueven nuestros datos."
      ]
    },
    {
      "cell_type": "markdown",
      "metadata": {
        "id": "wBPspQvzO30t"
      },
      "source": [
        "### g) Clasificación\n",
        "\n",
        "La idea del siguiente punto es que, dado un conjunto de características de un vino en particular, obtener su clasificación, es decir, a qué segmento de cliente pertenece. Para ello utilizaremos la función `clasificarVino`, que recibe un vector de $1\\times 13$ asociado a las caracteristicas de un vino, una matriz $W$ de componentes principales de nuestros datos y un número $k$ asociado a la cantidad de vecinos más cercanos con la que queremos realizar el algoritmo knn. La función va a devolver un número dentro del intervalo [1,2,3] asociado a la clasificación del segmento de cliente al que pertenecen las características del vino particular.\n"
      ]
    },
    {
      "cell_type": "code",
      "execution_count": 10,
      "metadata": {
        "colab": {
          "base_uri": "https://localhost:8080/"
        },
        "id": "9rbTdB6LO6N9",
        "outputId": "b5ed9798-ed3e-4d91-f435-c1dd20d84269"
      },
      "outputs": [
        {
          "output_type": "stream",
          "name": "stdout",
          "text": [
            "3.0\n"
          ]
        }
      ],
      "source": [
        "#Busco las 13 componentes principales\n",
        "x0 = np.random.rand(13)\n",
        "autovalores, autovectores = n_maximos(matriz_covarianza,x0,13)\n",
        "\n",
        "#Ponemos a cada componente principal como columna de nustra matriz W\n",
        "def armar_W(n, avecs):\n",
        "  W = np.zeros((13,n))\n",
        "  for i in range(13):\n",
        "      for j in range(n):\n",
        "          v = avecs[j]\n",
        "          W[i][j] = v[i]\n",
        "  return W\n",
        "#Armamos nuestra matriz con 13 componentes principales\n",
        "W = armar_W(13, autovectores)\n",
        "def distancia(v1,v2):\n",
        "  return np.linalg.norm(v1 - v2)\n",
        "\n",
        "def clasificarVino(x,W,k,data,clas):\n",
        "  #x es el vino que queremos clasificar\n",
        "  #W son las componentes principales que utilizaremos\n",
        "  #k es la cantidad de vecinos\n",
        "  #data es el dataset con el que vamos a entrenar nuestro modelo\n",
        "  #clas es la clasificacion de nuestra data\n",
        "\n",
        "  T = data@W #Proyectamos todos los datos sobre nuestras componentes principales\n",
        "  vino = x@W #Proyectamos los datos de las caracteristicas del nuevo vino sobre nuestras componentes principales\n",
        "  distancias = [] #Inicializamos una lista donde guardaremos todas las distancias euclideas\n",
        "  ap_1 = 0\n",
        "  ap_2 = 0\n",
        "  ap_3 = 0\n",
        "  res = 0\n",
        "  for i in range(len(T)):\n",
        "      #Guardamos las distancias y la posición en la que se encontraba en nuestros datos\n",
        "      distancias.append((distancia(T[i], vino), clas[i])) #posicion(data[i], var_dependientes_normalizados_mat)))\n",
        "  #Ordenamos las distancias para que primero se encuentren las más cercanas\n",
        "  distancias.sort(key=lambda distancias: distancias[0])\n",
        "\n",
        "  #Contamos apariciones\n",
        "  for i in range(k):\n",
        "\n",
        "    if distancias[i][1] == 1.0:\n",
        "      ap_1 += 1\n",
        "    elif distancias[i][1] == 2.0:\n",
        "      ap_2 += 1\n",
        "    elif distancias[i][1] == 3.0:\n",
        "      ap_3 += 1\n",
        "  #Vemos quien tiene más apariciones\n",
        "  if ap_3 >= ap_2 and ap_3 >= ap_1:\n",
        "      res = 3.0\n",
        "  elif ap_2 >= ap_3 and ap_2 >= ap_1:\n",
        "      res = 2.0\n",
        "  elif ap_1 >= ap_2 and ap_1 >= ap_3:\n",
        "      res = 1.0\n",
        "  #Devolvemos la clase mas representada entre los k vecinos\n",
        "  return res\n",
        "\n",
        "#Ejemplo\n",
        "\n",
        "#x = np.array([13.0, 1.72, 2.13, 11.0, 109, 2.70, 3.06, 0.32, 2.40, 8.0, 1.04, 3.90, 1185])\n",
        "x = np.array([13.17,\t2.59,\t2.37,\t20.0,\t120,\t1.65,\t0.68,\t0.53,\t1.46,\t9.30,\t0.60,\t1.62,\t840])  #debería dar 3\n",
        "#Normalizo los datos de mi vino\n",
        "df = X.copy()\n",
        "df, pr, desv = normalizar_df(df)\n",
        "\n",
        "xn = (x-pr)/desv\n",
        "#knn con 1 vecino\n",
        "df = df.to_numpy()\n",
        "print(clasificarVino(xn,W, 1, df, y.to_numpy()))"
      ]
    },
    {
      "cell_type": "markdown",
      "metadata": {
        "id": "sdgOYmfjNizI"
      },
      "source": [
        "## Ejercicio 2\n",
        "Primero dividimos nuestros datos en entrenamiento y testeo.\n"
      ]
    },
    {
      "cell_type": "code",
      "execution_count": 29,
      "metadata": {
        "id": "wRlPhHgxeiie"
      },
      "outputs": [],
      "source": [
        "#dividimos nuestro dataset en Train (80%) y test (20%)\n",
        "train, test = train_test_split(data, test_size=0.2)\n",
        "\n",
        "ytrain = train['Customer_Segment']\n",
        "ytest = test['Customer_Segment']\n",
        "ytrain = ytrain.to_numpy()\n",
        "ytest = ytest.to_numpy()\n",
        "train = train.drop(columns='Customer_Segment')\n",
        "test = test.drop(columns='Customer_Segment')"
      ]
    },
    {
      "cell_type": "code",
      "execution_count": 30,
      "metadata": {
        "id": "j3vEfOk5yFpo"
      },
      "outputs": [],
      "source": [
        "#normalizamos nuestros datos (con nuestro train set)\n",
        "\n",
        "train, pr, desv = normalizar_df(train)\n",
        "\n",
        "test = (test-pr)/desv\n",
        "train = train.to_numpy()\n",
        "test = test.to_numpy()"
      ]
    },
    {
      "cell_type": "markdown",
      "metadata": {
        "id": "wAkFILZPTQGx"
      },
      "source": [
        "### a) Varianza explicada\n",
        "Para la siguiente consigna calculamos la varianza explicada de cada autovalor de nuestra matriz de covarianza. A continuación se puede ver una tabla donde se resumen los resultados:\n",
        "\n",
        "<table>\n",
        "  <thead>\n",
        "    <tr>\n",
        "      <th>Modelo PCA</th>\n",
        "      <th>Componente</th>\n",
        "      <th>Varianza explicada</th>\n",
        "      <th>Porcentaje</th>\n",
        "      <th>Acumulado</th>\n",
        "    </tr>\n",
        "  </thead>\n",
        "  <tbody>\n",
        "    <tr>\n",
        "      <td>1 componente principal</td>\n",
        "      <td>1</td>\n",
        "      <td>0.35</td>\n",
        "      <td>35%</td>\n",
        "      <td>35%</td>\n",
        "    </tr>\n",
        "    <tr>\n",
        "      <td>2 componentes principales</td>\n",
        "      <td>1</td>\n",
        "      <td>0.35</td>\n",
        "      <td>35%</td>\n",
        "      <td>35%</td>\n",
        "    </tr>\n",
        "      <tr>\n",
        "      <td>2 componentes principales</td>\n",
        "      <td>2</td>\n",
        "      <td>0.20</td>\n",
        "      <td>20%</td>\n",
        "      <td>55%</td>\n",
        "    </tr>\n",
        "        <tr>\n",
        "      <td>3 componentes principales</td>\n",
        "      <td>1</td>\n",
        "      <td>0.35</td>\n",
        "      <td>35%</td>\n",
        "      <td>35%</td>\n",
        "    </tr>\n",
        "      <tr>\n",
        "      <td>3 componentes principales</td>\n",
        "      <td>2</td>\n",
        "      <td>0.20</td>\n",
        "      <td>35%</td>\n",
        "      <td>55%</td>\n",
        "    </tr>\n",
        "        </tr>\n",
        "      <tr>\n",
        "      <td>3 componentes principales</td>\n",
        "      <td>3</td>\n",
        "      <td>0.11</td>\n",
        "      <td>11%</td>\n",
        "      <td>66%</td>\n",
        "    </tr>\n",
        "            <tr>\n",
        "      <td>3 componentes principales</td>\n",
        "      <td>1</td>\n",
        "      <td>0.35</td>\n",
        "      <td>35%</td>\n",
        "      <td>35%</td>\n",
        "    </tr>\n",
        "      <tr>\n",
        "      <td>3 componentes principales</td>\n",
        "      <td>2</td>\n",
        "      <td>0.20</td>\n",
        "      <td>35%</td>\n",
        "      <td>55%</td>\n",
        "    </tr>\n",
        "        </tr>\n",
        "      <tr>\n",
        "      <td>3 componentes principales</td>\n",
        "      <td>3</td>\n",
        "      <td>0.11</td>\n",
        "      <td>11%</td>\n",
        "      <td>66%</td>\n",
        "    </tr>\n",
        "      <tr>\n",
        "      <td>4 componentes principales</td>\n",
        "      <td>4</td>\n",
        "      <td>0.07</td>\n",
        "      <td>7%</td>\n",
        "      <td>73%</td>\n",
        "    </tr>\n",
        "  </tbody>\n",
        "</table>\n",
        "\n"
      ]
    },
    {
      "cell_type": "code",
      "execution_count": 31,
      "metadata": {
        "colab": {
          "base_uri": "https://localhost:8080/"
        },
        "id": "1z2c1C_ATnRZ",
        "outputId": "9122ea32-15e3-48fe-ffa3-62c17dd65460"
      },
      "outputs": [
        {
          "output_type": "stream",
          "name": "stdout",
          "text": [
            "[0.36330248257898445, 0.19739140420538281, 0.1088059013872567, 0.06953206058216801, 0.057180408910828616, 0.05158612735278239, 0.0437815579208133, 0.029166980839510054, 0.020931506897416005, 0.018752544216427195, 0.0171761295197695, 0.01364066903222066, 0.008752226556440344]\n"
          ]
        }
      ],
      "source": [
        "matriz_covarianza_train = covarianza(train)\n",
        "#Calculamos la varianza explicada para cada autovalor de nuestra matriz W de autovectores.\n",
        "x0 = np.random.rand(13)\n",
        "autovalores_t, autovectores_t = n_maximos(matriz_covarianza_train,x0,13)\n",
        "varianza_explicada = [autovalor / np.sum(autovalores_t) for autovalor in autovalores_t]\n",
        "print(varianza_explicada)"
      ]
    },
    {
      "cell_type": "markdown",
      "metadata": {
        "id": "LBsFmnIrd96F"
      },
      "source": [
        "### b) Comparación de modelos\n",
        "Para evaluar la performance de nuestros modelos, decidimos utilizar como medida la Accuracy, para ello definimos la funcion accuracy que calcula la cantidad de aciertos de nuestro modelo sobre el total de muestras en el conjunto de test."
      ]
    },
    {
      "cell_type": "code",
      "execution_count": 32,
      "metadata": {
        "colab": {
          "base_uri": "https://localhost:8080/"
        },
        "id": "kE0On_bUku7w",
        "outputId": "3d5a99f3-f990-41f4-d6ad-e2b0979c6bd1"
      },
      "outputs": [
        {
          "output_type": "execute_result",
          "data": {
            "text/plain": [
              "0.9166666666666666"
            ]
          },
          "metadata": {},
          "execution_count": 32
        }
      ],
      "source": [
        "#Armo mi matriz W con 2 componentes\n",
        "W = armar_W(2, autovectores_t)\n",
        "\n",
        "#Funcion de accuracy.\n",
        "def accuracy(test, train,ytest, ytrain, W, k):\n",
        "  le_pego = 0 #Aciertos\n",
        "  no_le_pego = 0 #Desaciertos\n",
        "  for i in range(len(test)):\n",
        "    if clasificarVino(test[i],W, k, train, ytrain) == ytest[i]: #Usamos KNN con k vecinos\n",
        "      le_pego +=1\n",
        "    else:\n",
        "      no_le_pego += 1\n",
        "  res = le_pego / (no_le_pego + le_pego)\n",
        "  return res\n",
        "accuracy(test, train, ytest, ytrain, W, 1)"
      ]
    },
    {
      "cell_type": "markdown",
      "metadata": {
        "id": "kzdhhyeVJIOG"
      },
      "source": [
        "Luego, decidimos comparar valores de accuracy para distintas cantidades de componentes en nuestra matriz $W$. Para ello guardamos los datos de 20 modelos con 1,2,3 y 4 componentes en una matriz y promediamos los datos."
      ]
    },
    {
      "cell_type": "code",
      "execution_count": 34,
      "metadata": {
        "id": "QB6agNUmoDzg"
      },
      "outputs": [],
      "source": [
        "#Creamos una matriz donde almacenaremos las accuracy para distintos modelos y componentes\n",
        "matriz_acu = np.zeros((20,4))\n",
        "i = 0\n",
        "x0 = np.random.rand(13)\n",
        "while i < 20:\n",
        "  #me genero un nuevo test y train set\n",
        "  train, test = train_test_split(data, test_size=0.2)\n",
        "  ytrain = train['Customer_Segment']\n",
        "  ytest = test['Customer_Segment']\n",
        "  ytrain = ytrain.to_numpy()\n",
        "  ytest = ytest.to_numpy()\n",
        "  train = train.drop(columns='Customer_Segment')\n",
        "  test = test.drop(columns='Customer_Segment')\n",
        "  # normalizo mis datos\n",
        "  train, pr, desv = normalizar_df(train)\n",
        "  test = (test-pr)/desv\n",
        "  train = train.to_numpy()\n",
        "  test = test.to_numpy()\n",
        "\n",
        "  matriz_covarianza_train = covarianza(train)\n",
        "  autovalores_t2, autovectores_t2 = n_maximos(matriz_covarianza_train,x0,4)\n",
        "  for j in range(4):\n",
        "    W = armar_W(j, autovectores_t2)\n",
        "    matriz_acu[i][j] = accuracy(test, train, ytest, ytrain, W, 1)\n",
        "  i +=1"
      ]
    },
    {
      "cell_type": "code",
      "execution_count": 35,
      "metadata": {
        "colab": {
          "base_uri": "https://localhost:8080/"
        },
        "id": "r9u-2ZAyuSfi",
        "outputId": "066ae409-ff4c-42b3-f314-be3cb16e0809"
      },
      "outputs": [
        {
          "output_type": "stream",
          "name": "stdout",
          "text": [
            "[0.3402777777777778, 0.7694444444444445, 0.9513888888888886, 0.9361111111111111]\n"
          ]
        }
      ],
      "source": [
        "promedios = []\n",
        "for j in range(4):\n",
        "    suma = 0\n",
        "    for i in range(20):\n",
        "        suma += matriz_acu[i][j]\n",
        "    promedios.append(suma/matriz_acu.shape[0])\n",
        "print(promedios)"
      ]
    },
    {
      "cell_type": "code",
      "execution_count": 36,
      "metadata": {
        "colab": {
          "base_uri": "https://localhost:8080/",
          "height": 472
        },
        "id": "7VuiOmT3si2U",
        "outputId": "9a58633c-1c2d-47d2-aa86-2f1cc378e6a7"
      },
      "outputs": [
        {
          "output_type": "display_data",
          "data": {
            "text/plain": [
              "<Figure size 640x480 with 1 Axes>"
            ],
            "image/png": "[encoded data removed]"
          },
          "metadata": {}
        }
      ],
      "source": [
        "#Graficamos\n",
        "plt.plot([1,2,3,4],promedios)\n",
        "plt.title('Promedio de la Accuracy de 20 modelos')\n",
        "plt.xlabel('componentes')\n",
        "plt.ylabel('accuracy')\n",
        "plt.show()"
      ]
    },
    {
      "cell_type": "markdown",
      "metadata": {
        "id": "eN4neXIX6TmH"
      },
      "source": [
        "En el gráfico, Vemos que efectivamente, sucede lo que suponiamos. Usar dos o tres componentes presenta una mejora frente a usar una sola, pero a partir de la cuarta componente, el rendimiento/efectividad de nuestros modelos empieza a bajar.\n",
        "\n",
        "A continuación veremos con cuantas componentes nuestro modelo es más eficiente y presenta menor complejidad a la hora de clasificar, para finalmente tomar una decisión"
      ]
    },
    {
      "cell_type": "code",
      "execution_count": null,
      "metadata": {
        "colab": {
          "base_uri": "https://localhost:8080/"
        },
        "id": "JxuP77iM8J5K",
        "outputId": "eabc3284-b318-4e74-f237-95e1bf0daa47"
      },
      "outputs": [
        {
          "name": "stdout",
          "output_type": "stream",
          "text": [
            "La función con 1 componentes tardó 0.1380302906036377 segundos en ejecutarse.\n",
            "La función con 2 componentes tardó 0.12602901458740234 segundos en ejecutarse.\n",
            "La función con 3 componentes tardó 0.14603304862976074 segundos en ejecutarse.\n",
            "La función con 4 componentes tardó 0.127028226852417 segundos en ejecutarse.\n"
          ]
        }
      ],
      "source": [
        "#Buscamos las comp. principales\n",
        "x0 = np.random.rand(13)\n",
        "autovalores, autovectores = n_maximos(matriz_covarianza,x0,13)\n",
        "#Ejemplo vino\n",
        "\n",
        "for i in range(1,5):\n",
        "  inicio = time.time()\n",
        "  W = armar_W(i, autovectores) #armo matriz de componentes principales\n",
        "  for x in test: #clasifico todo mi dataset (train + test)\n",
        "    clasificarVino(x,W,5,train, ytrain)\n",
        "  for x in train:\n",
        "    clasificarVino(x,W,5,train, ytrain)\n",
        "  fin = time.time()\n",
        "  # Cálculo del tiempo transcurrido\n",
        "  tiempo_transcurrido = fin - inicio\n",
        "  print(f\"La función con {i} componentes tardó {tiempo_transcurrido} segundos en ejecutarse.\")"
      ]
    },
    {
      "cell_type": "markdown",
      "metadata": {
        "id": "ECf_tYOZAdz7"
      },
      "source": [
        "Viendo que la complejidad de la función `clasificarVino` aumenta con el número de componentes, ya que al proyectar las matrices $W$ de mayor dimensión y recorrerlas la complejidad aumenta y considerando que la varianza acumulada del modelo con 2 componentes es de 55%. Tomamos la decisión de que la mejor opción para clasificar vinos es el modelo con 2 componentes, ya que tiene una accuracy similar a los modelos de 3 y 4 componentes, es más eficiente y es un indicador que toma en cuenta como varían mas de la mitad de nuestros datos."
      ]
    },
    {
      "cell_type": "markdown",
      "metadata": {
        "id": "tikm7Nj50MQP"
      },
      "source": [
        "### c) Matriz de confusión\n",
        "una matriz de confusión, es una matriz de dos dimensiones, la cual\n",
        "tiene en una de sus direcciones los valores de testeo verdaderos y en la otra dirección los valores estimados.\n",
        "\n",
        "Para esta ocasión decidimos comparar entre dos categorias de vinos la 1 y la 2. En la dirección (arriba-abajo) se encuentran los valores de testeo reales y en la dirección (izquierda-derecha) se encuentran los valores predichos por el modelo."
      ]
    },
    {
      "cell_type": "code",
      "execution_count": 28,
      "metadata": {
        "colab": {
          "base_uri": "https://localhost:8080/"
        },
        "id": "td_6XjnIzB2i",
        "outputId": "cd896a88-93f1-4bb9-8852-44f419ae57aa"
      },
      "outputs": [
        {
          "output_type": "stream",
          "name": "stdout",
          "text": [
            "Matriz de confusion: \n",
            " [[12.  1.]\n",
            " [ 0. 14.]]\n"
          ]
        }
      ],
      "source": [
        "avals_t, avecs_t =  n_maximos(covarianza(train),x0,13) #Obtenemos los autovectores\n",
        "W = armar_W(2, avecs_t) #Creamos nuestra matriz W\n",
        "#Matriz de confusion.\n",
        "def confusion(test, train,ytest, ytrain, W):\n",
        "  res = np.zeros((2,2))\n",
        "  for i in range(len(test)):\n",
        "    if clasificarVino(test[i],W, 3, train, ytrain) == ytest[i] and ytest[i] == 1: #Era 1 y clasifico bien\n",
        "      res[0][0] += 1\n",
        "    elif clasificarVino(test[i],W, 3, train, ytrain) == ytest[i] and ytest[i] == 2: #Era 2 y clasifico bien\n",
        "      res[1][1] += 1\n",
        "    elif clasificarVino(test[i],W, 3, train, ytrain) != ytest[i] and ytest[i] == 1: #Era 1 y el modelo clasifico mal\n",
        "      res[0][1] += 1\n",
        "    elif clasificarVino(test[i],W, 3, train, ytrain) != ytest[i] and ytest[i] == 2: #Era 2 y el modelo clasifico bien\n",
        "      res[1][0] += 1\n",
        "  return res\n",
        "print(\"Matriz de confusion: \\n\",confusion(test, train,ytest, ytrain, W))"
      ]
    },
    {
      "cell_type": "markdown",
      "metadata": {
        "id": "T1pKiTnaHLpW"
      },
      "source": [
        "Observando la matriz de confusión podemos ver que nuestro modelo KNN, es bastante bueno clasificando a nuestros datos porque tuvo una baja cantidad de desaciertos. Por lo que confirmamos que la decisión de quedarnos con la matriz de 2 componentes fue la adecuada."
      ]
    },
    {
      "cell_type": "markdown",
      "metadata": {
        "id": "R3i1WhJcgGV7"
      },
      "source": [
        "## Conclusiones Finales\n",
        "Finalizado el proceso de normalización de nuestros datos, modelado y evaluación de nuestros modelos, llegamos a las siguientes conclusiones:\n",
        "\n",
        "* Es importante normalizar nuestros datos poque si las unidades de medida en diferentes atributos son distintas, los atributos con magnitudes mayores pueden dominar la variabilidad y tener un impacto desproporcionado en los componentes principales. La normalización asegura que todas los atributos tengan una escala comparable.\n",
        "\n",
        "* La reduccion en componentes principales de nuestros datos mejora la eficiencia de nuestros modelos predictivos, y es util para clasificar nuevos vinos de una forma mas eficiente y rápida.\n",
        "* El modelo con 2 componentes acumula más de la mitad de la varianza acumulada de nuestros datos con un 55%. Mientras que el modelo de 3 componentes aumenta tan solo un 11% más la varianza acumulada con respecto al modelo de dos componentes, alcanzando un 66%.\n",
        "* La performance de nuestro modelo KNN no es buena para el modelo con 1 sola componente, y tiende a disminuir a partir de la cuarta componente.\n",
        "* El mejor modelo para clasificar vinos con una accuracy aceptable y de forma rápida es el modelo con 2 componentes."
      ]
    }
  ],
  "metadata": {
    "colab": {
      "provenance": []
    },
    "kernelspec": {
      "display_name": "Python 3 (ipykernel)",
      "language": "python",
      "name": "python3"
    },
    "language_info": {
      "codemirror_mode": {
        "name": "ipython",
        "version": 3
      },
      "file_extension": ".py",
      "mimetype": "text/x-python",
      "name": "python",
      "nbconvert_exporter": "python",
      "pygments_lexer": "ipython3",
      "version": "3.10.12"
    }
  },
  "nbformat": 4,
  "nbformat_minor": 0
}